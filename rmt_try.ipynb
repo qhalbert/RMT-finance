{
 "cells": [
  {
   "attachments": {},
   "cell_type": "markdown",
   "metadata": {},
   "source": [
    "### Import Modules"
   ]
  },
  {
   "cell_type": "code",
   "execution_count": 216,
   "metadata": {},
   "outputs": [],
   "source": [
    "import pandas as pd\n",
    "import numpy as np\n",
    "from scipy.stats import zscore\n",
    "import matplotlib.pyplot as plt\n"
   ]
  },
  {
   "cell_type": "code",
   "execution_count": 217,
   "metadata": {},
   "outputs": [],
   "source": [
    "T = 2000\n",
    "N = 1000\n",
    "df = pd.read_parquet('closeprice.parquet')\n",
    "df_recent = df.tail(T)  # to fix the number of observations \n",
    "df_recent_sample_stocks = df_recent.iloc[:, :N]\n",
    "\n",
    "df_clean = df_recent_sample_stocks.dropna(axis=1)\n",
    "\n",
    "log_returns = np.log(1 + df_clean.pct_change(1))\n",
    "# Fill NaN values with forward fill\n",
    "log_returns = log_returns.fillna(method='bfill')"
   ]
  },
  {
   "cell_type": "code",
   "execution_count": 218,
   "metadata": {},
   "outputs": [
    {
     "name": "stdout",
     "output_type": "stream",
     "text": [
      "0\n",
      "False\n"
     ]
    }
   ],
   "source": [
    "print(log_returns.isna().sum().sum())\n",
    "print(np.isinf(log_returns.values).any())"
   ]
  },
  {
   "attachments": {},
   "cell_type": "markdown",
   "metadata": {},
   "source": [
    "### To standarize the log returns "
   ]
  },
  {
   "cell_type": "code",
   "execution_count": 219,
   "metadata": {},
   "outputs": [],
   "source": [
    "z_scores = log_returns.apply(zscore)\n",
    "\n",
    "standardized_log_returns = z_scores"
   ]
  },
  {
   "attachments": {},
   "cell_type": "markdown",
   "metadata": {},
   "source": [
    "### To shuffle each col such that the time dependency is removed"
   ]
  },
  {
   "cell_type": "code",
   "execution_count": 220,
   "metadata": {},
   "outputs": [],
   "source": [
    "shuffled_standardized_log_returns = standardized_log_returns.apply(np.random.permutation)"
   ]
  },
  {
   "attachments": {},
   "cell_type": "markdown",
   "metadata": {},
   "source": [
    "### To create the Wishart-Laguerre matrix"
   ]
  },
  {
   "cell_type": "code",
   "execution_count": 221,
   "metadata": {},
   "outputs": [
    {
     "name": "stdout",
     "output_type": "stream",
     "text": [
      "320.3600598039854 0.033600904886674755\n"
     ]
    }
   ],
   "source": [
    "H = standardized_log_returns.values\n",
    "H = np.array(H)\n",
    "W = (1/T)* np.transpose(H).dot(H)\n",
    "eigenvalues = np.linalg.eigvals(W)\n",
    "print(max(eigenvalues), min(eigenvalues))"
   ]
  },
  {
   "cell_type": "code",
   "execution_count": 222,
   "metadata": {},
   "outputs": [
    {
     "data": {
      "image/png": "[encoded data removed]",
      "text/plain": [
       "<Figure size 640x480 with 1 Axes>"
      ]
     },
     "metadata": {},
     "output_type": "display_data"
    }
   ],
   "source": [
    "plt.hist(eigenvalues, bins=500, range=(0,3), density=True)\n",
    "plt.show()"
   ]
  },
  {
   "cell_type": "code",
   "execution_count": 223,
   "metadata": {},
   "outputs": [],
   "source": [
    "import numpy as np\n",
    "\n",
    "# Assume `A` is a symmetric matrix\n",
    "eigenvalues, eigenvectors = np.linalg.eigh(W)\n",
    "\n",
    "# Create an orthogonal matrix `Q` from the eigenvectors\n",
    "Q = eigenvectors.T\n",
    "\n",
    "# Diagonalize `A` using `Q`\n",
    "D = Q @ Q.T"
   ]
  },
  {
   "cell_type": "code",
   "execution_count": 254,
   "metadata": {},
   "outputs": [
    {
     "data": {
      "text/plain": [
       "array([5.00000000e+00, 1.04061363e-16])"
      ]
     },
     "execution_count": 254,
     "metadata": {},
     "output_type": "execute_result"
    }
   ],
   "source": [
    "import numpy as np\n",
    "\n",
    "# Assume `A` is a matrix\n",
    "\n",
    "matrix = np.array([[1,2],[2,4]])\n",
    "U, s, V = np.linalg.svd(matrix)\n",
    "s"
   ]
  },
  {
   "cell_type": "code",
   "execution_count": 255,
   "metadata": {},
   "outputs": [
    {
     "data": {
      "text/plain": [
       "array([[-0.4472136 , -0.89442719],\n",
       "       [-0.89442719,  0.4472136 ]])"
      ]
     },
     "execution_count": 255,
     "metadata": {},
     "output_type": "execute_result"
    }
   ],
   "source": [
    "U"
   ]
  },
  {
   "cell_type": "code",
   "execution_count": 256,
   "metadata": {},
   "outputs": [
    {
     "data": {
      "text/plain": [
       "array([[-0.4472136 , -0.89442719],\n",
       "       [-0.89442719,  0.4472136 ]])"
      ]
     },
     "execution_count": 256,
     "metadata": {},
     "output_type": "execute_result"
    }
   ],
   "source": [
    "V"
   ]
  },
  {
   "cell_type": "code",
   "execution_count": 257,
   "metadata": {},
   "outputs": [
    {
     "data": {
      "text/plain": [
       "array([0., 5.])"
      ]
     },
     "execution_count": 257,
     "metadata": {},
     "output_type": "execute_result"
    }
   ],
   "source": [
    "eigenvalues, eigenvectors = np.linalg.eigh(matrix)\n",
    "\n",
    "# Create an orthogonal matrix `Q` from the eigenvectors\n",
    "Q = eigenvectors.T\n",
    "eigenvalues"
   ]
  },
  {
   "cell_type": "code",
   "execution_count": 258,
   "metadata": {},
   "outputs": [
    {
     "data": {
      "text/plain": [
       "array([[-0.89442719,  0.4472136 ],\n",
       "       [ 0.4472136 ,  0.89442719]])"
      ]
     },
     "execution_count": 258,
     "metadata": {},
     "output_type": "execute_result"
    }
   ],
   "source": [
    "Q"
   ]
  },
  {
   "cell_type": "code",
   "execution_count": 226,
   "metadata": {},
   "outputs": [
    {
     "name": "stdout",
     "output_type": "stream",
     "text": [
      "(985, 985)\n",
      "(985, 985)\n"
     ]
    }
   ],
   "source": [
    "print(np.shape(V))\n",
    "print(np.shape(U))"
   ]
  },
  {
   "cell_type": "code",
   "execution_count": null,
   "metadata": {},
   "outputs": [],
   "source": []
  },
  {
   "cell_type": "code",
   "execution_count": 227,
   "metadata": {},
   "outputs": [
    {
     "data": {
      "text/plain": [
       "array([[ 4.19803081e-16,  2.22044605e-16,  3.46944695e-18, ...,\n",
       "         0.00000000e+00, -1.38777878e-17, -6.93889390e-18],\n",
       "       [-9.02056208e-16,  8.32667268e-17,  0.00000000e+00, ...,\n",
       "        -1.35308431e-16, -2.01227923e-16, -1.24032729e-16],\n",
       "       [ 9.85322934e-16,  2.08166817e-15,  1.17961196e-16, ...,\n",
       "        -7.63278329e-17, -3.20923843e-17,  9.71445147e-17],\n",
       "       ...,\n",
       "       [-5.27355937e-16,  1.79101525e-14, -1.60288449e-15, ...,\n",
       "         6.76542156e-16,  1.11022302e-16, -5.31259065e-16],\n",
       "       [ 4.63518113e-15,  7.83054177e-15,  7.32053307e-15, ...,\n",
       "         1.41726908e-15,  1.22818422e-15,  9.36750677e-17],\n",
       "       [-5.29784550e-15,  2.58473798e-15,  1.30451205e-15, ...,\n",
       "        -1.32706346e-15,  3.98119038e-16, -8.18789481e-16]])"
      ]
     },
     "execution_count": 227,
     "metadata": {},
     "output_type": "execute_result"
    }
   ],
   "source": [
    "U.transpose()-V"
   ]
  },
  {
   "cell_type": "code",
   "execution_count": null,
   "metadata": {},
   "outputs": [],
   "source": []
  },
  {
   "cell_type": "markdown",
   "metadata": {},
   "source": []
  },
  {
   "cell_type": "code",
   "execution_count": 228,
   "metadata": {},
   "outputs": [
    {
     "data": {
      "image/png": "[encoded data removed]",
      "text/plain": [
       "<Figure size 640x480 with 1 Axes>"
      ]
     },
     "metadata": {},
     "output_type": "display_data"
    }
   ],
   "source": [
    "plt.hist(U[0], bins=500, range=(-0.1,0.1), density=True)\n",
    "plt.show()"
   ]
  },
  {
   "cell_type": "code",
   "execution_count": 229,
   "metadata": {},
   "outputs": [
    {
     "data": {
      "text/plain": [
       "array([-2.31980198e-02, -8.65856552e-02,  1.70656348e-02, -9.76321514e-02,\n",
       "        3.33320880e-02, -5.52912170e-02,  6.21216420e-03,  9.05918051e-04,\n",
       "       -1.82501498e-02,  7.99027426e-03, -1.56865618e-02,  1.73978077e-02,\n",
       "       -5.73458918e-02,  1.15558313e-02, -1.62393303e-02,  4.61406519e-02,\n",
       "       -4.23262173e-02,  4.61666932e-02, -3.97892930e-02,  2.77780312e-02,\n",
       "        6.58450447e-02,  4.97682067e-02, -1.61575457e-02,  5.07160226e-02,\n",
       "       -2.22978058e-02,  2.92341515e-03, -9.90985099e-03,  6.52633476e-02,\n",
       "       -2.09796055e-02,  1.59065806e-02, -6.47431542e-03,  4.51064126e-02,\n",
       "       -7.54803112e-03,  2.84812064e-02, -9.86071198e-03, -1.82225198e-02,\n",
       "        7.31944855e-03,  1.42359806e-02,  4.87830749e-03, -1.20281622e-02,\n",
       "       -2.52379379e-02,  4.13789389e-02,  1.80787189e-03, -1.79967396e-02,\n",
       "        6.22364340e-04, -1.92572681e-03,  2.48486528e-02, -4.56856941e-03,\n",
       "        1.14008833e-02, -1.77825478e-02,  4.18542548e-02, -2.48385462e-02,\n",
       "        2.88458786e-02, -3.21204849e-04,  3.22594397e-02, -3.07999892e-02,\n",
       "        1.18018525e-02, -2.01773469e-02,  4.57279532e-02, -2.09245755e-02,\n",
       "        4.08281706e-02, -3.12152226e-02, -2.82335376e-02,  4.13603246e-02,\n",
       "       -1.78089698e-02, -3.27341113e-02,  5.22745043e-02, -2.64487022e-02,\n",
       "       -4.16172557e-02,  1.59161973e-02,  2.38158654e-02, -1.29801133e-02,\n",
       "       -2.90887612e-02, -4.63034217e-02,  2.35922381e-02,  2.76769372e-02,\n",
       "       -3.10487252e-02, -3.03524208e-02,  7.97021940e-03,  5.94650236e-02,\n",
       "       -1.98782414e-03, -1.79814580e-04, -5.13053999e-03, -5.67246728e-02,\n",
       "        1.82378744e-02,  1.81984356e-02,  5.19927437e-05, -3.86940115e-02,\n",
       "       -2.03189054e-03,  1.86341191e-02,  2.69114337e-02,  3.94161752e-02,\n",
       "       -9.42966379e-03, -2.25444957e-02, -4.73770430e-02,  1.00926263e-02,\n",
       "        6.25997699e-02,  1.05661425e-02, -2.30032729e-02,  9.00137108e-03,\n",
       "       -1.80232491e-02,  8.96014031e-03, -2.95268759e-02,  9.64952281e-03,\n",
       "       -7.76402480e-02,  6.50846730e-02, -1.87816317e-02,  4.79360733e-02,\n",
       "       -2.31715207e-03,  7.71879180e-02, -6.84052738e-02,  1.24497183e-02,\n",
       "       -2.99632769e-02,  5.81871375e-03, -4.51793104e-04,  3.60386370e-02,\n",
       "       -1.54655003e-02,  3.35421661e-03, -1.56620475e-02,  3.44767962e-02,\n",
       "       -1.44876061e-02,  2.27080733e-02, -2.01893848e-02, -6.11538260e-04,\n",
       "        4.21239055e-02, -4.19400970e-03, -3.89454818e-02,  7.25891434e-03,\n",
       "       -1.98600140e-02, -8.32396700e-03,  2.73900581e-03, -3.15504132e-02,\n",
       "       -4.79818558e-02,  2.29158369e-02, -2.78063523e-02,  4.08066340e-03,\n",
       "        3.27082021e-02, -4.11166035e-03, -2.86319182e-02,  9.43073770e-03,\n",
       "       -9.17924480e-04, -6.50674800e-03,  3.13245625e-03,  8.68868096e-03,\n",
       "       -1.10320993e-02, -1.67253982e-02,  5.67053744e-02,  1.94119899e-02,\n",
       "       -2.82220856e-02,  3.33523666e-02,  2.67278283e-02, -9.31758352e-03,\n",
       "       -7.81109778e-03,  3.69263473e-02,  1.05292708e-02, -4.93596895e-02,\n",
       "        3.97612359e-02,  7.97273787e-02, -4.93507737e-03, -5.08496334e-02,\n",
       "        1.80123430e-03,  1.66331408e-02, -9.98372337e-03, -7.37396326e-03,\n",
       "       -2.85194235e-02,  6.15025716e-04,  8.18212876e-03,  4.54000391e-02,\n",
       "       -1.69393522e-02, -3.51803555e-02,  9.32366052e-03,  1.59001307e-02,\n",
       "       -1.40555360e-04, -2.02379605e-02,  3.19240155e-02,  1.15566288e-02,\n",
       "        3.74343144e-02, -2.96996334e-03, -8.07968052e-03, -2.29230435e-02,\n",
       "        3.16092176e-02,  1.23048151e-02,  7.51351341e-03, -5.98564525e-02,\n",
       "       -1.25877859e-02, -2.44471939e-02,  8.78627343e-02, -4.27210793e-02,\n",
       "       -1.22078081e-02, -1.01144666e-02, -5.25738390e-03, -2.63441243e-02,\n",
       "       -1.89958766e-02,  6.23120411e-02, -1.68877330e-02, -4.08393188e-02,\n",
       "       -1.18735089e-02,  1.91789945e-02,  1.71369028e-02,  6.06469949e-03,\n",
       "       -2.81776127e-02, -1.08161007e-02,  3.78093634e-02,  3.53316001e-02,\n",
       "        2.17980692e-02, -1.54229773e-02, -6.01559281e-02, -7.88775944e-03,\n",
       "       -2.46758192e-02,  9.13875815e-03,  1.98119448e-02,  4.38880924e-02,\n",
       "       -1.09224907e-02, -1.85834851e-02, -2.88505237e-02, -4.36311493e-02,\n",
       "        9.01668679e-03,  8.41313251e-03,  8.13246575e-03,  3.07024025e-02,\n",
       "        1.19741912e-02, -8.42033836e-02, -4.10555504e-02,  1.63496547e-02,\n",
       "        3.79231172e-02,  3.62463366e-02,  1.79370387e-02, -6.92764643e-03,\n",
       "       -1.89616866e-02, -3.51006128e-02, -1.37755889e-02,  5.87688847e-02,\n",
       "        3.05388825e-02,  7.55910481e-02, -9.03875479e-03, -3.93611376e-03,\n",
       "       -1.64140313e-02, -1.07418091e-02,  4.07429130e-02,  2.15946221e-02,\n",
       "        9.03050332e-03,  3.57563491e-02, -1.89638049e-02, -1.24492021e-02,\n",
       "       -2.02551052e-02, -3.94493861e-02,  3.87400069e-02,  1.29961430e-02,\n",
       "        1.63433226e-02,  3.56404409e-02, -1.63953748e-02, -1.14629901e-02,\n",
       "       -5.53121629e-02, -9.59373787e-03,  5.09654722e-02,  9.62234337e-04,\n",
       "       -1.61174759e-02,  1.20090379e-02, -1.53267872e-02,  1.95631473e-02,\n",
       "       -1.52302745e-02,  4.50917572e-03, -2.76995497e-02,  3.78111080e-03,\n",
       "       -1.35426525e-02,  2.41047781e-02, -2.52888279e-02,  3.38618449e-02,\n",
       "       -5.53337454e-03,  1.13064228e-02, -2.34295516e-02,  2.13920387e-02,\n",
       "       -6.72241511e-02,  6.55262899e-03, -8.22537642e-03,  1.06592686e-02,\n",
       "       -2.53242136e-02,  1.15739942e-02, -6.77234906e-02,  1.68962468e-02,\n",
       "       -4.51629928e-03,  6.68537739e-02, -2.19918653e-02,  4.48594723e-03,\n",
       "       -7.52492553e-04,  5.76081625e-03, -5.49362111e-03, -3.01293860e-04,\n",
       "        6.63704372e-03, -4.69459760e-02,  1.80984987e-02, -1.70085009e-02,\n",
       "        6.78235716e-03, -4.25179938e-02,  1.53135220e-02,  1.48866068e-03,\n",
       "       -1.39273974e-02,  6.00724223e-02, -2.10416744e-02,  1.49775557e-02,\n",
       "       -6.28439848e-03,  6.94007906e-03, -5.72993257e-02, -5.90447869e-02,\n",
       "        6.61385497e-03,  2.53325925e-04, -3.46810641e-02,  1.46717273e-02,\n",
       "       -1.58375346e-02,  2.48409756e-02,  1.68702687e-02, -2.51751391e-02,\n",
       "        4.43435549e-02,  7.06680784e-03, -4.74023435e-02,  7.91156633e-03,\n",
       "       -4.27870828e-02, -3.50912198e-03,  3.41981131e-02,  6.04621358e-03,\n",
       "       -2.88592827e-02,  1.67040710e-02, -3.60178999e-02, -1.38834638e-03,\n",
       "        1.15585612e-02,  3.69660686e-02, -3.66586959e-02,  4.43698057e-02,\n",
       "       -1.72712993e-03, -2.42465045e-02,  3.13986096e-02, -3.26672110e-02,\n",
       "       -5.09713101e-03,  2.62577394e-02,  6.56438539e-02, -1.29934192e-03,\n",
       "       -1.34487498e-02,  6.32763957e-03,  3.61189788e-02, -3.53732513e-03,\n",
       "       -1.05609140e-02,  1.64567576e-02,  3.69387894e-02, -3.25764795e-02,\n",
       "        2.38494938e-02,  1.33475320e-02, -2.28709625e-02,  5.45965166e-02,\n",
       "        9.98790257e-03, -1.46809542e-02, -7.26129095e-03, -3.68447640e-02,\n",
       "        1.65791229e-02,  1.32820128e-04, -1.47047040e-02, -1.59797338e-02,\n",
       "        1.05588350e-02,  5.76282095e-02, -2.40244929e-02,  3.70789188e-02,\n",
       "        6.90237142e-03,  1.23994761e-02, -7.21525541e-02,  2.77445020e-02,\n",
       "        1.36182322e-02, -3.37382131e-02, -5.88465190e-03, -3.58834037e-02,\n",
       "        3.81406196e-02, -4.99797930e-02, -1.69224778e-02,  2.14297320e-03,\n",
       "        2.33613707e-02, -2.72509029e-02, -2.50416138e-02,  2.13596889e-02,\n",
       "       -1.47687438e-02,  3.70854171e-02,  1.59359275e-02, -2.07094156e-02,\n",
       "       -1.52666454e-02,  1.98956930e-02,  7.52352358e-03,  1.87728476e-03,\n",
       "        4.61899875e-02, -4.37481738e-02, -2.34172777e-02,  4.43516331e-03,\n",
       "        5.63630742e-02, -1.77548168e-02, -4.79561211e-03,  9.55560669e-03,\n",
       "       -2.87186802e-02, -1.90202746e-02, -1.27740140e-02,  4.29468535e-02,\n",
       "        3.35113868e-03,  4.73093478e-04, -4.80708394e-02,  2.58762155e-02,\n",
       "       -4.12186120e-02, -2.22337075e-03, -2.15381637e-03, -9.35270037e-03,\n",
       "        6.92300721e-03, -3.15897970e-02, -7.33866188e-03, -6.64110743e-02,\n",
       "        1.78618711e-02, -2.44960217e-03, -2.61602977e-03, -6.75735448e-03,\n",
       "       -1.08005243e-02,  7.54773558e-03,  5.31595707e-04,  7.91503091e-03,\n",
       "       -2.06151283e-02,  1.33137930e-02,  7.25812645e-03,  2.64145061e-02,\n",
       "       -8.08253949e-03, -3.79550090e-03, -2.86883516e-02,  1.46638140e-02,\n",
       "       -8.68949449e-03, -6.83013474e-03, -6.99436657e-03,  2.51788321e-02,\n",
       "        1.83985113e-02, -1.27212514e-02, -4.38849554e-03, -1.05272097e-02,\n",
       "        1.28621509e-02,  1.16525267e-03,  5.50303693e-03,  5.42840626e-02,\n",
       "       -5.51632051e-03, -2.79588627e-03, -3.01776785e-02,  3.32150300e-02,\n",
       "       -1.80911603e-02, -2.45005525e-02,  1.31818902e-02,  2.03796890e-02,\n",
       "        2.80543097e-02, -2.15207768e-02, -1.37597220e-02, -2.00556104e-02,\n",
       "        2.63417835e-02,  1.47537140e-02,  1.86743626e-02,  5.31583649e-02,\n",
       "       -4.92813860e-02, -2.84423415e-02,  4.52998999e-02,  1.24651878e-02,\n",
       "       -1.38132346e-03, -5.94753546e-02, -3.38491429e-03,  6.57534854e-03,\n",
       "        2.96210401e-04,  3.90480025e-03,  5.95495092e-02, -6.21679381e-02,\n",
       "        3.26806179e-02,  6.23329805e-03,  7.44194601e-03,  2.39172009e-02,\n",
       "       -1.24053391e-02, -3.39864224e-02,  3.07575434e-03,  7.51599788e-03,\n",
       "        2.52570279e-02, -4.81060412e-03, -3.17123323e-02,  4.46755084e-03,\n",
       "        1.49192050e-02,  6.63989527e-02,  2.18292955e-02, -5.01126089e-02,\n",
       "       -2.45193624e-02,  5.04287339e-02,  3.26068680e-03,  3.69334595e-03,\n",
       "        1.29375003e-02,  5.36441073e-03, -8.12963690e-02, -2.25139304e-02,\n",
       "       -4.77668499e-02,  3.87722210e-02,  1.71297525e-02, -1.49372950e-02,\n",
       "       -8.38500206e-03, -1.63465311e-03, -4.84407614e-02,  2.12745480e-02,\n",
       "        2.06147742e-02, -2.81766549e-02, -2.69428232e-02, -2.09352160e-02,\n",
       "       -1.91975843e-02,  7.46836255e-03,  2.40141727e-02,  1.60514706e-02,\n",
       "       -4.08575847e-02, -2.64198160e-02,  9.76232541e-03,  4.73910214e-02,\n",
       "        3.88777355e-02, -6.48366046e-03, -9.21599296e-03, -2.89015878e-03,\n",
       "       -2.53164868e-02,  2.86549972e-03,  6.53046215e-03,  2.03062425e-02,\n",
       "        4.19681977e-02, -1.75968581e-03, -2.92695649e-02, -1.79191394e-02,\n",
       "        2.65838977e-02,  2.03864924e-02,  8.32341158e-04,  4.96235630e-03,\n",
       "       -6.39449814e-02, -1.92405197e-02, -1.51385701e-02, -5.23986213e-02,\n",
       "        2.83156441e-02,  1.26868742e-02,  2.63827624e-02, -3.94100295e-02,\n",
       "       -6.28427308e-03, -5.38693422e-04, -4.59310485e-02,  4.31854404e-03,\n",
       "        3.49528870e-02,  2.42708295e-03, -3.16533518e-02, -8.83829795e-03,\n",
       "       -1.27301438e-03, -2.32564997e-02,  2.17031441e-02,  3.58083780e-02,\n",
       "       -4.60033168e-02, -4.79041989e-03, -8.10124864e-03, -2.97516442e-03,\n",
       "       -2.96475222e-03,  9.31443351e-03,  3.62775848e-02, -3.06397268e-03,\n",
       "       -6.01780063e-03, -2.88570352e-02,  1.88251935e-02,  3.78951711e-03,\n",
       "        4.15250712e-02, -2.70275996e-02, -1.33753467e-03, -2.57431050e-02,\n",
       "       -1.50233098e-02, -1.02919976e-02, -1.64449270e-02,  2.39627022e-02,\n",
       "        3.34912067e-02, -2.82071112e-02, -2.68898286e-02, -1.30933473e-02,\n",
       "       -4.79462525e-03, -8.83838891e-03,  4.43167649e-03,  7.03206479e-03,\n",
       "        2.64813197e-02,  1.09361338e-02, -2.57924721e-03, -1.91244087e-02,\n",
       "       -1.42337816e-02, -1.72976796e-02,  6.47805863e-03,  5.41599439e-02,\n",
       "        2.62740551e-02, -1.27416002e-03, -5.88323523e-02, -8.60847999e-03,\n",
       "        1.34524693e-02,  4.71116569e-02,  5.90615399e-02,  6.18580832e-03,\n",
       "       -6.19040848e-03, -3.42726972e-03, -2.44316770e-02, -5.67101073e-03,\n",
       "       -4.55984078e-02,  3.49595201e-02,  2.24662071e-02,  3.26189526e-02,\n",
       "       -2.04035868e-02, -4.31398706e-03, -1.82018843e-02, -5.95724761e-02,\n",
       "        4.33970207e-02,  6.34744856e-02,  2.43005983e-02, -1.13081949e-02,\n",
       "       -1.27860322e-02, -3.35713787e-02, -8.56798934e-03, -6.94473493e-03,\n",
       "       -1.04556579e-02,  2.12780560e-02,  1.10938542e-02,  8.68230852e-03,\n",
       "        2.92657038e-02, -5.04708728e-03, -1.74695719e-02, -2.49860054e-02,\n",
       "       -2.56208609e-02, -4.90173337e-02,  5.03223825e-02,  1.64833260e-02,\n",
       "        3.17058358e-02,  2.35202057e-02, -2.92624361e-02, -2.16000027e-02,\n",
       "       -6.51346507e-03, -3.51418786e-02,  6.24194321e-02,  2.25749529e-02,\n",
       "        2.05611686e-02,  3.98585957e-02,  4.97206083e-02, -3.01552687e-02,\n",
       "       -1.96918750e-02, -5.36380398e-02,  2.85504454e-02,  1.81061364e-02,\n",
       "        2.80658174e-03,  3.43286312e-03,  4.70933605e-02,  2.86669188e-02,\n",
       "       -1.36339952e-02, -2.34313135e-02, -1.80843786e-02, -2.32319689e-02,\n",
       "        1.72151407e-02,  1.89250734e-02,  1.45455702e-02,  4.38430033e-02,\n",
       "       -5.11306718e-02, -2.76597731e-02, -6.53365648e-02,  2.27596962e-02,\n",
       "        5.51276753e-03,  1.10595388e-03,  3.20189735e-02,  6.33135338e-03,\n",
       "        5.95784604e-02, -1.31289013e-02, -6.93499638e-04, -4.07297185e-02,\n",
       "       -1.38296076e-04, -9.47110119e-03,  1.54884689e-02,  3.78927937e-03,\n",
       "        1.23043678e-02,  3.57630967e-02,  4.09450339e-02,  6.06631834e-03,\n",
       "       -4.20001966e-02, -1.42997422e-02, -2.70533449e-02, -6.88728260e-03,\n",
       "        2.28023436e-02,  4.14561844e-02,  1.14085613e-02,  4.21847423e-02,\n",
       "        1.37017715e-02, -7.50176349e-03, -1.94792559e-02, -2.10241253e-02,\n",
       "       -2.92059839e-02, -5.50379282e-03,  2.50887878e-02,  3.13286907e-03,\n",
       "        3.22837635e-03,  2.37767656e-02,  3.81179528e-02,  2.17415942e-02,\n",
       "        2.17888890e-02, -8.90690862e-02, -2.21854052e-02,  1.10485524e-02,\n",
       "        6.50657714e-02,  7.52892448e-02,  3.11967716e-02,  2.91220790e-03,\n",
       "       -1.92909597e-02, -6.28182644e-02, -2.36569459e-02, -1.75105702e-02,\n",
       "        7.74483351e-02,  1.20293394e-02,  1.33657970e-02,  2.85238975e-02,\n",
       "        1.15261024e-02,  3.99961380e-02, -6.25394586e-02, -1.72481930e-02,\n",
       "       -2.78540174e-02, -5.71689891e-03, -1.41639673e-02, -5.36009916e-03,\n",
       "        2.23480278e-02,  5.25212083e-02,  1.76520032e-02,  3.94080889e-02,\n",
       "       -5.67388577e-02, -9.95694396e-03, -5.29325050e-03, -1.07784345e-02,\n",
       "       -2.15856958e-02, -1.88227714e-03, -1.96987880e-03, -1.03636349e-02,\n",
       "        1.90894842e-02,  3.60513258e-02,  2.61835116e-02,  4.48502106e-02,\n",
       "        5.08357259e-02, -2.47685566e-02, -3.61521483e-02, -1.35520781e-02,\n",
       "       -3.87660149e-02, -7.32826275e-03,  6.48576595e-02,  4.41854911e-02,\n",
       "        1.50819918e-02,  1.84690712e-02, -5.93801722e-03, -1.97323422e-03,\n",
       "       -1.35461678e-02, -6.60929062e-03, -4.63864108e-04, -1.14528189e-02,\n",
       "       -2.65493410e-02, -2.87504187e-02,  3.48352864e-02,  5.31879808e-02,\n",
       "        8.82900257e-03,  1.69450044e-02,  3.98051562e-03,  1.53910545e-02,\n",
       "       -2.39483191e-02, -6.34401758e-02, -8.80588693e-02, -2.85689120e-03,\n",
       "        3.15551598e-02,  2.03998573e-02,  1.67823294e-02,  3.01451716e-03,\n",
       "        1.37720070e-02,  1.05757936e-02, -2.51710483e-02, -9.86807393e-03,\n",
       "       -9.92794979e-03, -2.81629677e-03, -2.52158825e-02, -3.58943976e-03,\n",
       "       -8.28306643e-03, -8.72048681e-02,  1.36476652e-02,  2.04541308e-02,\n",
       "        5.82212201e-02,  2.75534670e-02,  9.19205014e-03, -4.47360761e-02,\n",
       "       -4.73913356e-02, -3.70366928e-02, -1.89762485e-02, -1.56549730e-02,\n",
       "       -3.97086113e-02,  2.03192862e-02,  3.72055868e-02,  1.94135558e-02,\n",
       "        5.72262940e-02,  3.95731990e-02,  4.90025574e-02, -1.45107224e-02,\n",
       "       -4.06246424e-02, -5.51583490e-02, -6.32797440e-02,  3.06583624e-02,\n",
       "        2.99641176e-02,  4.75568509e-03,  2.11782252e-03,  1.35428157e-02,\n",
       "        3.32822214e-02,  4.37738610e-02,  1.80915195e-02,  1.09712141e-02,\n",
       "       -5.64027308e-02, -2.58256606e-02, -2.53984214e-02, -2.09895765e-02,\n",
       "       -1.62310557e-02, -2.17243031e-02, -3.28449721e-02,  1.12181641e-02,\n",
       "        1.28563564e-02,  9.34557707e-02,  4.85228932e-02, -1.60283376e-02,\n",
       "       -5.03707450e-02, -4.94297575e-02, -1.96222469e-02, -1.14772511e-02,\n",
       "       -1.30696300e-02, -5.68621596e-02, -1.97244827e-02,  1.14879521e-02,\n",
       "        4.31252096e-02,  2.45332874e-02,  3.16494195e-02,  5.94779331e-03,\n",
       "        5.18627570e-02, -2.99006391e-03, -7.75778539e-03, -4.37577849e-02,\n",
       "       -2.94888442e-02, -9.13220766e-02,  2.41670177e-03,  1.73715177e-02,\n",
       "        1.81517367e-03,  2.44844473e-02,  1.74813481e-02,  5.58892995e-03,\n",
       "        8.17150133e-03,  4.47813377e-02,  3.53685016e-02, -3.38421706e-02,\n",
       "       -1.75309911e-02, -7.11529038e-02, -1.85183495e-04, -1.30579477e-02,\n",
       "       -2.04986728e-03,  4.50402671e-03,  2.62065513e-02,  2.74074628e-02,\n",
       "        2.21054499e-02,  3.73649384e-02,  3.86662017e-02,  6.34701047e-02,\n",
       "       -3.94727270e-02, -1.13849477e-03, -2.45455141e-02, -5.58777385e-03,\n",
       "       -5.74617300e-02, -5.27609734e-02, -6.87218984e-02,  5.15874992e-02,\n",
       "        8.04874171e-02,  1.01079684e-02,  7.55893651e-02,  2.93295029e-02,\n",
       "       -4.53605122e-02, -2.37056479e-02, -1.27539160e-02, -1.61799388e-02,\n",
       "       -2.68817853e-02, -5.03312473e-03, -1.46166364e-02, -4.09323056e-03,\n",
       "       -3.54564312e-02,  5.33660501e-02,  2.37937479e-02,  4.04413202e-02,\n",
       "        5.50587614e-03,  4.68047148e-02,  6.64328963e-03,  2.97923459e-04,\n",
       "        4.14811887e-02, -8.25647264e-02, -1.62303056e-02, -2.10750913e-02,\n",
       "       -5.82874262e-02, -1.87539523e-02, -3.67590452e-03, -1.47110396e-03,\n",
       "        7.30238581e-02,  2.98477084e-02,  1.57525001e-02,  1.94503354e-02,\n",
       "        5.35140274e-02,  2.57392923e-02,  6.21037014e-04,  3.72262268e-02,\n",
       "       -5.51726810e-02, -3.13566598e-02, -7.67624712e-03, -2.17550325e-02,\n",
       "       -1.07384719e-02, -1.63575923e-02, -1.28547270e-02,  3.25112056e-02,\n",
       "        3.40812656e-02,  2.73493426e-02,  7.91894724e-03,  3.77143681e-02,\n",
       "        6.83290278e-02,  4.56569362e-02, -2.22274680e-02, -5.33215136e-02,\n",
       "       -5.12838621e-02, -6.07901336e-02, -5.41188214e-02, -5.67675809e-02,\n",
       "        6.83549743e-02,  2.16484761e-02,  1.85666419e-02,  1.27599902e-02,\n",
       "        2.92086543e-02,  4.39708904e-02,  4.24828900e-02, -3.62132426e-02,\n",
       "       -1.00537645e-02, -5.31336237e-02, -2.84727588e-02, -3.33772663e-02,\n",
       "       -1.29178424e-02, -6.40686579e-02,  5.92753676e-02,  3.42956877e-02,\n",
       "        4.33148064e-02,  3.13395040e-02,  2.45021714e-02,  1.06624958e-01,\n",
       "       -3.89765988e-02, -2.57925627e-02, -4.05642494e-02, -8.85530083e-04,\n",
       "       -6.69375349e-04, -2.45785776e-02, -2.28551953e-02, -6.22835921e-02,\n",
       "        5.60172572e-02,  5.33734304e-02,  2.33012721e-02,  2.95725370e-02,\n",
       "        1.15594110e-02,  6.82795176e-02,  6.93458082e-03, -3.70613987e-02,\n",
       "       -2.04598341e-02, -4.64237124e-02, -2.61489783e-02, -2.53286156e-02,\n",
       "       -2.68873351e-05,  9.33366510e-02,  8.81779810e-02,  9.53487652e-02,\n",
       "        6.92715872e-02, -4.57767649e-02, -2.00144960e-02, -6.34236555e-02,\n",
       "       -6.17267106e-02,  4.21839038e-02,  1.97080708e-02,  1.69174923e-02,\n",
       "        1.56309880e-02,  7.52267505e-03,  4.60542713e-03, -3.60937838e-02,\n",
       "       -5.02094935e-02, -2.97635364e-03, -1.76258164e-02,  1.94715470e-02,\n",
       "        4.17447283e-02, -1.75583547e-02, -3.45822340e-02, -3.56422698e-02,\n",
       "        9.84939472e-03,  3.81331751e-02, -1.56260995e-02,  6.23032338e-02,\n",
       "       -2.75785578e-02])"
      ]
     },
     "execution_count": 229,
     "metadata": {},
     "output_type": "execute_result"
    }
   ],
   "source": [
    "V[:,0]"
   ]
  },
  {
   "cell_type": "code",
   "execution_count": 230,
   "metadata": {},
   "outputs": [
    {
     "name": "stdout",
     "output_type": "stream",
     "text": [
      "DescribeResult(nobs=985, minmax=(-0.09763215137163524, 0.10662495833554798), mean=0.0005339416759347638, variance=0.0010159747791589429, skewness=0.03658444459861048, kurtosis=0.1415216525972145)\n"
     ]
    }
   ],
   "source": [
    "import numpy as np\n",
    "from scipy.stats import describe\n",
    "\n",
    "# Assume `V` is a NumPy array\n",
    "stats = describe(V[:,0])\n",
    "\n",
    "# Print the statistics\n",
    "print(stats)"
   ]
  },
  {
   "cell_type": "code",
   "execution_count": 231,
   "metadata": {},
   "outputs": [
    {
     "name": "stdout",
     "output_type": "stream",
     "text": [
      "[-2.40244929e-02  1.33012967e-02 -4.77650205e-02  5.50922904e-03\n",
      " -3.59415937e-02 -2.34726597e-02  1.26701108e-02  7.12522745e-02\n",
      "  2.40217453e-02 -4.47396221e-02  3.07122658e-02 -2.39329939e-02\n",
      " -1.42855628e-02  3.41454366e-02  4.19322287e-03  1.82921769e-02\n",
      "  1.75760865e-02 -2.12784205e-02 -3.07344448e-02 -1.46164724e-02\n",
      "  2.45975514e-02  4.18372695e-02 -3.86234751e-02 -3.54984277e-02\n",
      "  1.79936826e-02 -4.07510959e-03 -6.75861023e-02 -2.43731195e-02\n",
      "  1.77436674e-02 -2.05349687e-02  3.71493206e-03 -5.11417661e-02\n",
      "  3.40683573e-02 -3.86529010e-02 -3.75167234e-02  1.26057019e-02\n",
      "  6.00810364e-03 -4.04493474e-02 -2.26609849e-02 -4.75436059e-02\n",
      "  2.93177816e-03  3.39337024e-02 -5.36717358e-02 -1.79346996e-02\n",
      "  2.23120507e-02  5.19857295e-02 -2.95856072e-03  1.46188364e-02\n",
      "  4.88405614e-02 -2.20162617e-02  1.80333238e-02 -4.83855571e-03\n",
      "  1.52959667e-02 -2.87046390e-02 -3.22288004e-02 -2.84991119e-02\n",
      "  5.22329296e-02 -2.22429583e-03 -4.55268274e-02  4.36406471e-02\n",
      " -2.31372797e-02 -1.21921726e-02 -1.61963042e-02  1.50533544e-02\n",
      "  4.63559922e-03 -6.74003429e-03  4.53927344e-02 -1.52263682e-02\n",
      " -8.37290976e-03 -2.76062382e-02 -2.70492593e-02  2.75405471e-02\n",
      " -2.40523700e-02  7.68239090e-03 -1.38174105e-02  7.29988783e-03\n",
      "  4.63838911e-02  1.01138536e-03 -7.01260133e-03  2.26525071e-02\n",
      "  4.69070626e-03 -3.67620177e-02 -1.89251276e-02  3.86657750e-02\n",
      " -1.40420528e-02  1.05958248e-02  3.91664531e-02 -9.87600391e-03\n",
      "  6.53426158e-02  5.08564524e-03  2.84789852e-03  3.15075221e-02\n",
      "  2.73595236e-02 -2.77076172e-02  1.48692021e-02  6.70568255e-02\n",
      " -6.40249200e-02 -4.90820866e-03  5.13015395e-02  1.39510760e-03\n",
      " -2.83610461e-02 -1.11161732e-02 -4.30077710e-02  1.02207074e-02\n",
      " -9.98943126e-04  2.51092719e-02  2.03462005e-03  1.30998981e-02\n",
      "  6.34965849e-02 -6.39227262e-03  1.30836400e-02  4.57945513e-03\n",
      " -8.35982412e-03 -1.53800548e-02 -6.59550320e-04  7.54608182e-03\n",
      " -1.12191083e-01 -3.39973385e-02  7.98071802e-03  4.31715999e-02\n",
      "  4.52752659e-02  4.22006161e-02  4.69283602e-02  2.70291695e-03\n",
      "  1.89347784e-02 -5.42424950e-02  5.19708904e-03 -1.62052683e-02\n",
      "  2.64075401e-02 -2.46300670e-02 -2.00648192e-02  3.52772227e-02\n",
      " -2.61867145e-02 -7.07532200e-03  1.84751251e-02 -4.66283772e-02\n",
      " -4.58433047e-03  3.55130692e-03 -9.09530739e-04 -9.73059845e-03\n",
      " -9.15823936e-03  2.55241007e-02 -2.73297913e-02 -1.00110148e-02\n",
      " -9.06903892e-03  8.01817279e-02 -1.78229962e-02  9.32104369e-03\n",
      " -4.01971100e-02 -1.50665164e-02 -1.55754944e-02 -2.32258571e-02\n",
      "  5.22971709e-02  1.09432867e-03 -3.67844444e-05  5.01195999e-02\n",
      " -3.58617981e-02 -5.42430621e-03 -1.07459402e-01 -4.97325092e-05\n",
      "  1.18083868e-02  2.43720164e-02 -2.36122330e-02  6.07294518e-03\n",
      "  2.41022656e-02 -6.03375238e-02  3.82146745e-02  1.03833415e-02\n",
      " -3.34870342e-02 -3.01074184e-04 -4.35228397e-02  3.91772745e-02\n",
      "  1.45897892e-02  1.72030760e-02 -3.37280950e-02  1.58528557e-02\n",
      " -8.13645575e-03 -5.55344753e-02  2.23980960e-02  1.95879570e-02\n",
      " -4.11624494e-02 -2.67202166e-02 -1.83049109e-02  1.85529731e-02\n",
      " -4.40639512e-02 -1.00674394e-03 -4.50004057e-02  6.15865709e-02\n",
      "  1.52490840e-03 -2.49953388e-02 -4.08614775e-02  6.60738224e-03\n",
      " -1.22373441e-02 -3.35022334e-02  5.74435217e-03  1.55382863e-02\n",
      "  9.74192702e-03  3.75366819e-02  4.29829494e-02  2.04792348e-02\n",
      " -1.59393942e-02 -3.48397687e-02  3.45890759e-02 -2.16995952e-02\n",
      " -8.67064947e-03  3.13426399e-02 -1.32300044e-02 -2.46238811e-02\n",
      "  1.35895721e-02  1.57431654e-02  1.55730762e-02 -1.74296058e-02\n",
      "  1.15993130e-02  4.86273026e-02 -2.38393433e-02 -9.75706348e-04\n",
      " -5.46037635e-02  1.69877502e-02 -2.96362373e-02  3.64255392e-02\n",
      "  2.74081134e-02 -1.77416788e-03 -3.07125774e-02  1.12661472e-02\n",
      " -1.06563071e-02  1.00073745e-02 -6.75654350e-02  3.13558353e-02\n",
      "  1.13624481e-02  1.97271443e-02  1.32142322e-02  2.99730688e-02\n",
      "  1.43529258e-02 -4.31758215e-02  2.88671938e-03 -1.68452013e-02\n",
      "  1.92183050e-02 -1.69542999e-02 -4.07561483e-02  2.12266486e-02\n",
      "  9.58989994e-03  2.14577493e-02  4.59961112e-02 -2.67601650e-03\n",
      "  3.56433045e-02 -2.97396646e-02 -3.50771934e-03  4.79043736e-02\n",
      "  3.42932532e-02  1.63831189e-02  4.65554872e-02 -1.91540274e-02\n",
      "  1.26844018e-02  3.13053662e-02  7.76995345e-03  1.70142195e-02\n",
      " -1.21972258e-02 -9.43297639e-03 -1.87850044e-02  2.69129140e-02\n",
      "  2.53632589e-02  2.91626596e-02 -9.41716871e-02 -1.98934038e-02\n",
      " -1.10897617e-02 -4.95588417e-02 -3.71974637e-02  9.78719839e-03\n",
      " -2.45926833e-02 -1.28660775e-02 -5.88620657e-03 -3.91593231e-03\n",
      " -1.56136962e-02  4.71319039e-02  3.51313533e-02 -2.74181068e-02\n",
      "  4.76211902e-02  7.80003032e-03  1.59067951e-02 -4.72897636e-02\n",
      " -2.95160994e-02 -4.13270170e-03 -6.08668247e-02 -1.55434187e-02\n",
      "  1.82016223e-02 -2.56909889e-02  1.42442468e-02  4.30921995e-02\n",
      "  4.77818942e-03 -2.57778822e-02  3.32481829e-02 -4.10027449e-02\n",
      " -8.54454629e-03  6.73055197e-03 -3.63446507e-02 -2.69358404e-02\n",
      "  6.24547795e-02 -7.84244883e-02 -6.56279421e-02 -4.66739526e-02\n",
      " -1.69352497e-02  2.70766370e-03 -3.24963971e-02 -2.05061289e-02\n",
      "  1.98178048e-02 -1.37878204e-02 -3.47369332e-02 -5.15365741e-02\n",
      " -5.52022397e-02  5.43793410e-02 -3.95128461e-02 -2.64966573e-02\n",
      "  1.51347998e-02  9.19996563e-03 -4.84290229e-03  2.57407796e-02\n",
      " -4.94293593e-03 -3.76945040e-02 -2.17083786e-02 -4.78793371e-02\n",
      "  2.60143470e-02  3.15990629e-02  2.49060959e-02 -2.35603677e-02\n",
      " -3.51240672e-02 -2.67065766e-02  3.07807194e-03  5.67332145e-03\n",
      " -3.13268854e-03  1.12610156e-02  6.37960799e-02 -3.82626684e-02\n",
      " -9.61212749e-03 -9.47575516e-03 -4.79093373e-02  2.66321498e-02\n",
      " -1.26910931e-03 -5.70902900e-02 -1.11977628e-02 -5.61826502e-02\n",
      "  7.84005283e-02 -7.07605036e-03 -2.29335484e-02 -2.35591617e-03\n",
      "  3.15037923e-02  2.23414371e-02  2.75199359e-02  4.34071088e-02\n",
      "  1.78464545e-02 -1.57989772e-02 -4.74140702e-02  1.66309965e-03\n",
      " -3.18232211e-02 -3.14795568e-02 -1.08142582e-02  3.31373998e-02\n",
      " -2.67910089e-02  3.00780308e-02  5.37421257e-02  1.73726417e-03\n",
      " -2.62269187e-02 -3.63251038e-03 -2.77485736e-02  3.54063861e-02\n",
      "  1.11612037e-02  1.19966651e-02  1.14579690e-02  2.91742912e-02\n",
      " -2.58000798e-02 -5.21672463e-02  6.63188400e-02 -6.49334420e-02\n",
      " -1.17955145e-02 -6.78030315e-03 -4.28815506e-02 -1.66497125e-03\n",
      " -4.76330227e-02 -1.32121319e-02 -1.37180106e-02 -1.24048038e-02\n",
      "  1.89914581e-02 -1.35102746e-02  4.73110655e-02  6.39122419e-02\n",
      " -8.72160158e-03  3.17709071e-02  4.31333362e-02 -2.63362312e-03\n",
      " -4.42324061e-02 -1.94283496e-02 -7.33395414e-02  2.13986366e-02\n",
      "  2.22925487e-02  1.05393159e-02  5.21152688e-02  5.80191659e-02\n",
      "  3.46910686e-02  8.43219556e-03  2.05398249e-02  9.49305128e-03\n",
      " -2.48600965e-03 -3.67707094e-02  3.97216427e-02  2.20677001e-02\n",
      "  1.76310681e-02  1.17086498e-02  1.71455653e-02 -2.52736078e-02\n",
      "  4.42423072e-02 -2.76915959e-03 -4.45442258e-02  3.41659143e-02\n",
      " -6.42295660e-02 -4.56975251e-02  1.45368964e-02  8.48337291e-03\n",
      "  2.39994168e-02  1.95076464e-02 -1.85335420e-02  3.58923310e-02\n",
      "  3.09170110e-02  1.78239881e-02 -6.20164703e-03  3.92294914e-02\n",
      " -2.31072655e-02 -6.30785853e-02 -2.02828656e-02 -2.80485506e-02\n",
      " -8.18867465e-03 -7.42089442e-03  8.07400256e-03 -1.17417424e-02\n",
      "  1.10213137e-02  2.78707776e-02 -2.65427739e-02  1.25286489e-02\n",
      " -3.57425694e-02  1.33489327e-02  3.96811272e-02 -2.34889542e-02\n",
      "  1.28168223e-02  2.08527473e-02 -7.24937827e-02  1.18767844e-02\n",
      "  1.59960774e-02  3.06743351e-02  1.57556741e-03  1.80743153e-02\n",
      "  2.08174693e-02  1.05668222e-02 -8.10546102e-03  2.27781999e-02\n",
      "  2.57303168e-02 -1.32655654e-03  5.26313991e-02  3.32992156e-02\n",
      " -5.85589812e-02 -5.45124348e-02  1.33456692e-02  3.94815114e-02\n",
      " -2.05440858e-02  4.33897581e-02  1.30554164e-02  4.15151135e-02\n",
      " -2.29773748e-03  1.38602548e-02  3.01547239e-03 -5.04212592e-02\n",
      " -7.45414155e-02  4.84155277e-02 -4.82606145e-02  4.55249518e-02\n",
      "  1.42887533e-02  2.21678991e-02  6.36196017e-03  1.21081659e-02\n",
      "  5.22584922e-03  4.97331407e-02  6.34828737e-03  2.50173493e-02\n",
      "  4.15642068e-02  1.83792348e-02  4.01241372e-02  1.45559458e-02\n",
      " -2.14464129e-02  1.81047664e-02  4.37542276e-02 -1.90734986e-02\n",
      "  1.85373770e-02 -1.14539980e-01 -1.64139903e-02 -1.74572042e-02\n",
      " -5.62679505e-02 -1.40500887e-02  2.82998697e-02  1.95010181e-02\n",
      "  9.37509151e-03 -1.09665930e-02  2.26308263e-02 -1.68209286e-02\n",
      "  3.41081359e-02 -2.85389825e-02  3.06738836e-02  3.15081579e-02\n",
      " -3.77058303e-03 -4.57448395e-02  1.89630634e-02 -2.25613034e-02\n",
      " -2.99431011e-02  7.06249499e-02  3.36825391e-02  1.87566170e-02\n",
      " -2.12941974e-02 -5.19627946e-02  2.05059156e-02 -3.49048271e-02\n",
      " -2.18438334e-02 -2.27969714e-02  2.45838340e-02 -5.11345302e-02\n",
      " -4.71627402e-02  1.61865418e-03 -2.42452372e-02  3.41005377e-02\n",
      "  5.68334848e-02 -8.19671977e-02 -2.24770374e-02  2.43264824e-02\n",
      "  7.92266181e-03 -1.01647179e-02 -2.99873661e-02  8.21454590e-03\n",
      "  4.35339316e-02  2.75086407e-02 -3.62000981e-02 -4.06779081e-02\n",
      "  5.13003379e-02  4.25986953e-02  1.69447331e-02 -5.55598943e-02\n",
      " -5.89192687e-03 -2.38483913e-02 -3.48139392e-02 -3.33385156e-02\n",
      " -2.51608573e-02 -2.59077457e-02 -3.42095025e-03  7.49750629e-03\n",
      " -1.34066601e-02  2.50932685e-02  2.67859883e-02  4.52598124e-03\n",
      "  3.30076563e-02  1.96398989e-02 -3.58394473e-02 -1.79591560e-02\n",
      "  4.24574459e-02  8.71498315e-03  4.44205996e-02 -1.84177155e-02\n",
      "  3.80471448e-03  2.98520697e-02 -4.20780614e-02 -4.17933138e-02\n",
      " -4.43371019e-02  1.45401443e-02 -1.48573921e-02 -8.84778578e-03\n",
      "  2.34837775e-02 -7.74886245e-02  2.82363069e-03 -3.02881582e-03\n",
      "  2.94540573e-02 -3.06875759e-02  2.86588716e-02  1.91968044e-02\n",
      " -6.85988243e-03 -1.42319251e-02 -2.28231238e-02  5.99846535e-03\n",
      "  1.32910411e-02  3.84436528e-02  1.50413712e-02 -7.41233083e-03\n",
      " -5.27688854e-02  1.61578919e-02  3.34289011e-02 -1.02998134e-02\n",
      " -8.06808813e-03 -2.99800347e-02 -1.09484171e-02 -2.12114365e-02\n",
      "  8.53072965e-04 -3.13301055e-02  5.34226396e-02  3.95316198e-02\n",
      " -2.80701771e-02 -5.01496092e-02 -5.68447022e-03  6.85414564e-02\n",
      " -3.76492669e-03  1.09196096e-02  1.03265323e-02 -3.61487310e-02\n",
      "  1.43305964e-02 -4.09578661e-02  1.96678562e-02  5.24397406e-02\n",
      " -5.05012305e-03  8.22330964e-03 -2.44651812e-02  5.37769170e-02\n",
      " -1.92510249e-02  5.95270652e-02 -6.14693309e-03  2.14219459e-02\n",
      " -3.67945736e-02  5.73742532e-03  1.27912296e-02  2.14743080e-03\n",
      "  7.29202636e-02  4.16240083e-02  2.04087044e-02 -3.17011919e-02\n",
      " -1.03091750e-02 -2.81822967e-02  1.43947927e-02 -3.00076880e-02\n",
      "  2.48587293e-02 -2.78889327e-02 -1.93285613e-02  4.16913452e-02\n",
      " -6.69087184e-03 -8.76197142e-04  6.32022296e-03  1.51372570e-02\n",
      "  3.05192039e-02 -3.37512608e-03 -5.92878307e-03  5.18750158e-02\n",
      " -4.19414891e-02 -2.93076491e-02 -3.39111667e-02  5.22386012e-02\n",
      " -1.15854361e-02 -3.51147039e-02  2.88114092e-02 -6.46141929e-02\n",
      " -9.64896539e-04 -1.27769284e-03  1.38668311e-02 -3.75670517e-02\n",
      "  2.61952997e-02 -8.35312928e-03 -2.47420391e-02 -5.93051052e-03\n",
      " -1.30539234e-02 -2.46574526e-02  4.07735857e-02 -1.99113536e-02\n",
      " -2.24849440e-02 -1.01661455e-02 -2.44231462e-02  1.12328397e-02\n",
      "  3.15702842e-02  2.92761047e-02  3.22624560e-03 -1.48847952e-02\n",
      " -5.88039945e-02  4.49101540e-02 -7.41250480e-03  1.12578925e-02\n",
      " -2.60393932e-03 -2.69798238e-02 -1.96974182e-02  9.61333074e-02\n",
      "  1.17616858e-02  3.77119697e-03 -1.84043140e-02  7.63530002e-03\n",
      " -4.13880909e-03 -2.77515263e-02 -3.88150045e-02 -2.40513618e-02\n",
      " -3.97099658e-02 -2.92106159e-03 -1.29653277e-03  3.33122443e-02\n",
      "  3.82283280e-02  2.83851757e-02  9.34870325e-03  6.81451820e-02\n",
      "  1.02435027e-02 -8.31178960e-03 -5.31033608e-02  1.09292452e-02\n",
      "  9.37787320e-03  3.79176575e-02  3.26969140e-02  1.58943668e-02\n",
      "  4.07427655e-03  1.05484208e-02  7.64907793e-03 -2.88654309e-02\n",
      " -8.51673516e-03 -6.39392337e-03 -2.39970241e-02  7.25328046e-02\n",
      " -2.84810801e-02  4.87625870e-02 -2.54635073e-02  4.02963017e-02\n",
      " -1.45988495e-02 -4.27124868e-02  5.18765654e-03 -1.45062586e-02\n",
      " -6.44142064e-02 -3.57596047e-02  5.83128644e-02 -2.77325392e-02\n",
      "  1.35609553e-02 -3.52873992e-02 -5.30860316e-02 -2.24775015e-02\n",
      " -1.81659551e-02  3.12148925e-02 -2.29790414e-02 -1.05513119e-02\n",
      " -6.49572185e-03 -4.79903266e-02 -1.48700085e-02 -5.39537773e-02\n",
      " -1.80575946e-02 -6.51693613e-02  1.91076927e-02 -4.98008234e-03\n",
      "  9.18914582e-03 -3.12518794e-02  6.63791591e-03 -3.41647451e-02\n",
      " -3.87347216e-03  9.91945469e-03 -2.46939124e-02 -4.22970918e-02\n",
      "  4.30988286e-03  3.71060080e-02 -3.35579260e-02 -4.24543795e-02\n",
      "  5.78624305e-02 -7.01748977e-02  4.23053776e-02  9.59117453e-03\n",
      "  2.20023512e-02  8.70278735e-03 -1.73067246e-03 -8.40733020e-02\n",
      "  3.50049339e-02 -2.74488474e-02  1.69381020e-02  4.62061548e-02\n",
      " -6.45712936e-02  2.70991733e-02 -2.33604135e-03  1.81791150e-02\n",
      "  7.17978803e-03 -1.88497688e-02 -1.09824601e-02 -2.31654023e-03\n",
      " -3.88420859e-02  9.89029141e-03 -4.16815268e-02  3.81372659e-03\n",
      "  3.17889019e-02  2.56792111e-02  1.17544971e-02 -1.74534279e-02\n",
      "  4.37938184e-02  2.52045902e-02 -2.19290778e-03  3.44913303e-02\n",
      " -2.10242860e-02 -6.55600460e-03  3.58658445e-03  3.39706206e-02\n",
      "  1.00440224e-02 -5.51166285e-03 -7.32086754e-03 -2.73656845e-02\n",
      "  1.30852032e-02  4.45989572e-02 -2.65900305e-02 -4.43106049e-02\n",
      "  1.15023628e-02  2.40625084e-02  1.00276397e-02 -1.57873758e-02\n",
      "  2.34092557e-02 -3.38611813e-02 -1.90355266e-03 -8.10634208e-04\n",
      " -1.95031680e-02  3.32345486e-02 -1.30645269e-02  2.15135053e-02\n",
      "  1.87477657e-02  2.63119916e-02 -2.55237400e-02  1.79851171e-02\n",
      " -1.86548731e-02  4.66258797e-02  6.12752447e-02  1.58488136e-02\n",
      "  7.96603833e-02  3.74515777e-02  2.01643160e-02 -3.32931877e-02\n",
      " -1.60517984e-02 -1.28770378e-03  9.19041248e-02  6.71977870e-03\n",
      " -5.50891380e-02 -5.25469246e-02 -2.61805767e-02  1.26729358e-02\n",
      "  3.25313563e-02 -1.01069330e-02 -4.30048898e-03 -1.61951167e-03\n",
      "  3.91882789e-02 -2.84590193e-02 -2.92188867e-02 -4.73135750e-02\n",
      "  2.02516665e-02  2.18491909e-02  3.09985163e-02 -2.87790228e-02\n",
      "  6.20259447e-02 -1.35022020e-02 -6.64567061e-03 -2.80852047e-02\n",
      " -3.41922500e-02  2.97169125e-02  1.51465880e-02  5.57737485e-02\n",
      "  7.70999342e-03  4.87710541e-02 -9.43989774e-03 -3.53667611e-02\n",
      " -4.28426257e-02  3.18129902e-02  1.29691608e-03 -4.36236720e-04\n",
      " -3.95974981e-02  2.89514040e-02 -2.08304812e-02  4.15662586e-02\n",
      "  2.35250626e-02 -5.59622953e-02 -1.56583904e-02 -1.66185912e-03\n",
      "  1.70861895e-02  2.72936832e-02  3.15788046e-02  6.00910322e-03\n",
      "  2.88578703e-02  3.97752407e-02 -1.02433951e-03  1.31652124e-02\n",
      "  5.53380800e-02  3.39263128e-02  1.43807590e-02  5.12423967e-02\n",
      "  2.64655203e-02 -2.10538350e-02  3.64000524e-02 -4.21906109e-03\n",
      "  3.57938259e-03  3.33762754e-02 -3.42072694e-03 -1.63889039e-02\n",
      " -1.74144129e-03  1.41530508e-02  1.08915516e-03 -6.39301621e-03\n",
      "  1.21350214e-02 -1.80540335e-02  1.95227643e-03  2.60204296e-02\n",
      "  9.37149431e-04  3.38258195e-02  5.24881387e-02 -4.56523815e-02\n",
      "  4.14476344e-02  5.58939103e-03 -5.45603479e-02 -3.28910717e-02\n",
      "  3.95085530e-03 -1.48677962e-02  1.81137232e-02 -3.55363263e-02\n",
      " -7.66895427e-03 -1.00946385e-04  2.43338126e-02  3.16506219e-02\n",
      "  1.59414964e-02  2.61115937e-02  5.30153287e-03  5.25512702e-02\n",
      " -1.93335308e-02 -2.25368269e-02 -6.58806642e-03 -1.59775598e-02\n",
      "  3.12749527e-03 -3.11196029e-03  3.70110633e-02 -1.63019480e-02\n",
      "  3.53200451e-02 -2.27038784e-02 -3.92536488e-02  2.44164301e-02\n",
      " -1.02652314e-02 -9.22660402e-03 -1.07249866e-02  2.73480094e-02\n",
      "  2.94324078e-02 -3.42745327e-02 -2.02250616e-02 -6.38727985e-03\n",
      " -2.68538499e-02 -2.39207847e-02  6.65578566e-03  3.62992772e-02\n",
      "  4.19531163e-02  2.44286204e-02 -4.85928178e-02  1.84391226e-02\n",
      " -1.04819660e-02  5.21157928e-03 -2.02420460e-02  3.21923929e-02\n",
      " -1.59357486e-02  4.81849770e-02 -2.96194038e-02  2.01757230e-02\n",
      "  4.57111702e-03  9.47874531e-04  5.49673151e-02 -1.00042155e-02\n",
      "  5.12240418e-02 -5.08901898e-02 -1.25516977e-02  3.82888327e-02\n",
      "  4.73603339e-02  1.15318068e-02  7.24231187e-02 -8.01636626e-03\n",
      "  3.59387270e-02 -6.88859470e-02  8.08710441e-02  2.62878532e-02\n",
      " -1.48408331e-02  1.64481019e-02  7.60599828e-03 -5.01821804e-02\n",
      " -4.19429167e-02  1.48476719e-02 -8.05343621e-02 -6.30182264e-02\n",
      " -5.63260327e-02  4.49276212e-02  2.87456495e-02  4.40959757e-02\n",
      "  4.84287517e-02  1.65818744e-02 -2.47761474e-02  2.95350731e-03\n",
      " -2.54037016e-02 -3.73921254e-02  3.38113786e-02 -8.83908225e-03\n",
      " -7.16593065e-03 -3.03031128e-02 -4.97349117e-02 -5.01540558e-02\n",
      "  2.70060962e-03]\n"
     ]
    }
   ],
   "source": [
    "import numpy as np\n",
    "\n",
    "# Assume `V` is a NumPy array\n",
    "sparsest_vector = V[np.argmax(np.abs(V).sum(axis=0))]\n",
    "\n",
    "# Print the sparsest vector\n",
    "print(sparsest_vector)"
   ]
  },
  {
   "cell_type": "code",
   "execution_count": null,
   "metadata": {},
   "outputs": [],
   "source": []
  },
  {
   "cell_type": "code",
   "execution_count": 232,
   "metadata": {},
   "outputs": [],
   "source": [
    "# Assume `eigenvalues` is a list of eigenvalues\n",
    "sublist = list(filter(lambda x: x > 3, eigenvalues))"
   ]
  },
  {
   "cell_type": "code",
   "execution_count": 233,
   "metadata": {},
   "outputs": [
    {
     "data": {
      "text/plain": [
       "array([-2.41980198e-02, -8.75856552e-02,  1.60656348e-02, -9.86321514e-02,\n",
       "        3.23320880e-02, -5.62912170e-02,  5.21216420e-03, -9.40819493e-05,\n",
       "       -1.92501498e-02,  6.99027426e-03, -1.66865618e-02,  1.63978077e-02,\n",
       "       -5.83458918e-02,  1.05558313e-02, -1.72393303e-02,  4.51406519e-02,\n",
       "       -4.33262173e-02,  4.51666932e-02, -4.07892930e-02,  2.67780312e-02,\n",
       "        6.48450447e-02,  4.87682067e-02, -1.71575457e-02,  4.97160226e-02,\n",
       "       -2.32978058e-02,  1.92341515e-03, -1.09098510e-02,  6.42633476e-02,\n",
       "       -2.19796055e-02,  1.49065806e-02, -7.47431542e-03,  4.41064126e-02,\n",
       "       -8.54803112e-03,  2.74812064e-02, -1.08607120e-02, -1.92225198e-02,\n",
       "        6.31944855e-03,  1.32359806e-02,  3.87830749e-03, -1.30281622e-02,\n",
       "       -2.62379379e-02,  4.03789389e-02,  8.07871885e-04, -1.89967396e-02,\n",
       "       -3.77635660e-04, -2.92572681e-03,  2.38486528e-02, -5.56856941e-03,\n",
       "        1.04008833e-02, -1.87825478e-02,  4.08542548e-02, -2.58385462e-02,\n",
       "        2.78458786e-02, -1.32120485e-03,  3.12594397e-02, -3.17999892e-02,\n",
       "        1.08018525e-02, -2.11773469e-02,  4.47279532e-02, -2.19245755e-02,\n",
       "        3.98281706e-02, -3.22152226e-02, -2.92335376e-02,  4.03603246e-02,\n",
       "       -1.88089698e-02, -3.37341113e-02,  5.12745043e-02, -2.74487022e-02,\n",
       "       -4.26172557e-02,  1.49161973e-02,  2.28158654e-02, -1.39801133e-02,\n",
       "       -3.00887612e-02, -4.73034217e-02,  2.25922381e-02,  2.66769372e-02,\n",
       "       -3.20487252e-02, -3.13524208e-02,  6.97021940e-03,  5.84650236e-02,\n",
       "       -2.98782414e-03, -1.17981458e-03, -6.13053999e-03, -5.77246728e-02,\n",
       "        1.72378744e-02,  1.71984356e-02, -9.48007256e-04, -3.96940115e-02,\n",
       "       -3.03189054e-03,  1.76341191e-02,  2.59114337e-02,  3.84161752e-02,\n",
       "       -1.04296638e-02, -2.35444957e-02, -4.83770430e-02,  9.09262627e-03,\n",
       "        6.15997699e-02,  9.56614251e-03, -2.40032729e-02,  8.00137108e-03,\n",
       "       -1.90232491e-02,  7.96014031e-03, -3.05268759e-02,  8.64952281e-03,\n",
       "       -7.86402480e-02,  6.40846730e-02, -1.97816317e-02,  4.69360733e-02,\n",
       "       -3.31715207e-03,  7.61879180e-02, -6.94052738e-02,  1.14497183e-02,\n",
       "       -3.09632769e-02,  4.81871375e-03, -1.45179310e-03,  3.50386370e-02,\n",
       "       -1.64655003e-02,  2.35421661e-03, -1.66620475e-02,  3.34767962e-02,\n",
       "       -1.54876061e-02,  2.17080733e-02, -2.11893848e-02, -1.61153826e-03,\n",
       "        4.11239055e-02, -5.19400970e-03, -3.99454818e-02,  6.25891434e-03,\n",
       "       -2.08600140e-02, -9.32396700e-03,  1.73900581e-03, -3.25504132e-02,\n",
       "       -4.89818558e-02,  2.19158369e-02, -2.88063523e-02,  3.08066340e-03,\n",
       "        3.17082021e-02, -5.11166035e-03, -2.96319182e-02,  8.43073770e-03,\n",
       "       -1.91792448e-03, -7.50674800e-03,  2.13245625e-03,  7.68868096e-03,\n",
       "       -1.20320993e-02, -1.77253982e-02,  5.57053744e-02,  1.84119899e-02,\n",
       "       -2.92220856e-02,  3.23523666e-02,  2.57278283e-02, -1.03175835e-02,\n",
       "       -8.81109778e-03,  3.59263473e-02,  9.52927078e-03, -5.03596895e-02,\n",
       "        3.87612359e-02,  7.87273787e-02, -5.93507737e-03, -5.18496334e-02,\n",
       "        8.01234299e-04,  1.56331408e-02, -1.09837234e-02, -8.37396326e-03,\n",
       "       -2.95194235e-02, -3.84974284e-04,  7.18212876e-03,  4.44000391e-02,\n",
       "       -1.79393522e-02, -3.61803555e-02,  8.32366052e-03,  1.49001307e-02,\n",
       "       -1.14055536e-03, -2.12379605e-02,  3.09240155e-02,  1.05566288e-02,\n",
       "        3.64343144e-02, -3.96996334e-03, -9.07968052e-03, -2.39230435e-02,\n",
       "        3.06092176e-02,  1.13048151e-02,  6.51351341e-03, -6.08564525e-02,\n",
       "       -1.35877859e-02, -2.54471939e-02,  8.68627343e-02, -4.37210793e-02,\n",
       "       -1.32078081e-02, -1.11144666e-02, -6.25738390e-03, -2.73441243e-02,\n",
       "       -1.99958766e-02,  6.13120411e-02, -1.78877330e-02, -4.18393188e-02,\n",
       "       -1.28735089e-02,  1.81789945e-02,  1.61369028e-02,  5.06469949e-03,\n",
       "       -2.91776127e-02, -1.18161007e-02,  3.68093634e-02,  3.43316001e-02,\n",
       "        2.07980692e-02, -1.64229773e-02, -6.11559281e-02, -8.88775944e-03,\n",
       "       -2.56758192e-02,  8.13875815e-03,  1.88119448e-02,  4.28880924e-02,\n",
       "       -1.19224907e-02, -1.95834851e-02, -2.98505237e-02, -4.46311493e-02,\n",
       "        8.01668679e-03,  7.41313251e-03,  7.13246575e-03,  2.97024025e-02,\n",
       "        1.09741912e-02, -8.52033836e-02, -4.20555504e-02,  1.53496547e-02,\n",
       "        3.69231172e-02,  3.52463366e-02,  1.69370387e-02, -7.92764643e-03,\n",
       "       -1.99616866e-02, -3.61006128e-02, -1.47755889e-02,  5.77688847e-02,\n",
       "        2.95388825e-02,  7.45910481e-02, -1.00387548e-02, -4.93611376e-03,\n",
       "       -1.74140313e-02, -1.17418091e-02,  3.97429130e-02,  2.05946221e-02,\n",
       "        8.03050332e-03,  3.47563491e-02, -1.99638049e-02, -1.34492021e-02,\n",
       "       -2.12551052e-02, -4.04493861e-02,  3.77400069e-02,  1.19961430e-02,\n",
       "        1.53433226e-02,  3.46404409e-02, -1.73953748e-02, -1.24629901e-02,\n",
       "       -5.63121629e-02, -1.05937379e-02,  4.99654722e-02, -3.77656629e-05,\n",
       "       -1.71174759e-02,  1.10090379e-02, -1.63267872e-02,  1.85631473e-02,\n",
       "       -1.62302745e-02,  3.50917572e-03, -2.86995497e-02,  2.78111080e-03,\n",
       "       -1.45426525e-02,  2.31047781e-02, -2.62888279e-02,  3.28618449e-02,\n",
       "       -6.53337454e-03,  1.03064228e-02, -2.44295516e-02,  2.03920387e-02,\n",
       "       -6.82241511e-02,  5.55262899e-03, -9.22537642e-03,  9.65926859e-03,\n",
       "       -2.63242136e-02,  1.05739942e-02, -6.87234906e-02,  1.58962468e-02,\n",
       "       -5.51629928e-03,  6.58537739e-02, -2.29918653e-02,  3.48594723e-03,\n",
       "       -1.75249255e-03,  4.76081625e-03, -6.49362111e-03, -1.30129386e-03,\n",
       "        5.63704372e-03, -4.79459760e-02,  1.70984987e-02, -1.80085009e-02,\n",
       "        5.78235716e-03, -4.35179938e-02,  1.43135220e-02,  4.88660680e-04,\n",
       "       -1.49273974e-02,  5.90724223e-02, -2.20416744e-02,  1.39775557e-02,\n",
       "       -7.28439848e-03,  5.94007906e-03, -5.82993257e-02, -6.00447869e-02,\n",
       "        5.61385497e-03, -7.46674075e-04, -3.56810641e-02,  1.36717273e-02,\n",
       "       -1.68375346e-02,  2.38409756e-02,  1.58702687e-02, -2.61751391e-02,\n",
       "        4.33435549e-02,  6.06680784e-03, -4.84023435e-02,  6.91156633e-03,\n",
       "       -4.37870828e-02, -4.50912198e-03,  3.31981131e-02,  5.04621358e-03,\n",
       "       -2.98592827e-02,  1.57040710e-02, -3.70178999e-02, -2.38834638e-03,\n",
       "        1.05585612e-02,  3.59660686e-02, -3.76586959e-02,  4.33698057e-02,\n",
       "       -2.72712993e-03, -2.52465045e-02,  3.03986096e-02, -3.36672110e-02,\n",
       "       -6.09713101e-03,  2.52577394e-02,  6.46438539e-02, -2.29934192e-03,\n",
       "       -1.44487498e-02,  5.32763957e-03,  3.51189788e-02, -4.53732513e-03,\n",
       "       -1.15609140e-02,  1.54567576e-02,  3.59387894e-02, -3.35764795e-02,\n",
       "        2.28494938e-02,  1.23475320e-02, -2.38709625e-02,  5.35965166e-02,\n",
       "        8.98790257e-03, -1.56809542e-02, -8.26129095e-03, -3.78447640e-02,\n",
       "        1.55791229e-02, -8.67179872e-04, -1.57047040e-02, -1.69797338e-02,\n",
       "        9.55883503e-03,  5.66282095e-02, -2.50244929e-02,  3.60789188e-02,\n",
       "        5.90237142e-03,  1.13994761e-02, -7.31525541e-02,  2.67445020e-02,\n",
       "        1.26182322e-02, -3.47382131e-02, -6.88465190e-03, -3.68834037e-02,\n",
       "        3.71406196e-02, -5.09797930e-02, -1.79224778e-02,  1.14297320e-03,\n",
       "        2.23613707e-02, -2.82509029e-02, -2.60416138e-02,  2.03596889e-02,\n",
       "       -1.57687438e-02,  3.60854171e-02,  1.49359275e-02, -2.17094156e-02,\n",
       "       -1.62666454e-02,  1.88956930e-02,  6.52352358e-03,  8.77284763e-04,\n",
       "        4.51899875e-02, -4.47481738e-02, -2.44172777e-02,  3.43516331e-03,\n",
       "        5.53630742e-02, -1.87548168e-02, -5.79561211e-03,  8.55560669e-03,\n",
       "       -2.97186802e-02, -2.00202746e-02, -1.37740140e-02,  4.19468535e-02,\n",
       "        2.35113868e-03, -5.26906522e-04, -4.90708394e-02,  2.48762155e-02,\n",
       "       -4.22186120e-02, -3.22337075e-03, -3.15381637e-03, -1.03527004e-02,\n",
       "        5.92300721e-03, -3.25897970e-02, -8.33866188e-03, -6.74110743e-02,\n",
       "        1.68618711e-02, -3.44960217e-03, -3.61602977e-03, -7.75735448e-03,\n",
       "       -1.18005243e-02,  6.54773558e-03, -4.68404293e-04,  6.91503091e-03,\n",
       "       -2.16151283e-02,  1.23137930e-02,  6.25812645e-03,  2.54145061e-02,\n",
       "       -9.08253949e-03, -4.79550090e-03, -2.96883516e-02,  1.36638140e-02,\n",
       "       -9.68949449e-03, -7.83013474e-03, -7.99436657e-03,  2.41788321e-02,\n",
       "        1.73985113e-02, -1.37212514e-02, -5.38849554e-03, -1.15272097e-02,\n",
       "        1.18621509e-02,  1.65252669e-04,  4.50303693e-03,  5.32840626e-02,\n",
       "       -6.51632051e-03, -3.79588627e-03, -3.11776785e-02,  3.22150300e-02,\n",
       "       -1.90911603e-02, -2.55005525e-02,  1.21818902e-02,  1.93796890e-02,\n",
       "        2.70543097e-02, -2.25207768e-02, -1.47597220e-02, -2.10556104e-02,\n",
       "        2.53417835e-02,  1.37537140e-02,  1.76743626e-02,  5.21583649e-02,\n",
       "       -5.02813860e-02, -2.94423415e-02,  4.42998999e-02,  1.14651878e-02,\n",
       "       -2.38132346e-03, -6.04753546e-02, -4.38491429e-03,  5.57534854e-03,\n",
       "       -7.03789599e-04,  2.90480025e-03,  5.85495092e-02, -6.31679381e-02,\n",
       "        3.16806179e-02,  5.23329805e-03,  6.44194601e-03,  2.29172009e-02,\n",
       "       -1.34053391e-02, -3.49864224e-02,  2.07575434e-03,  6.51599788e-03,\n",
       "        2.42570279e-02, -5.81060412e-03, -3.27123323e-02,  3.46755084e-03,\n",
       "        1.39192050e-02,  6.53989527e-02,  2.08292955e-02, -5.11126089e-02,\n",
       "       -2.55193624e-02,  4.94287339e-02,  2.26068680e-03,  2.69334595e-03,\n",
       "        1.19375003e-02,  4.36441073e-03, -8.22963690e-02, -2.35139304e-02,\n",
       "       -4.87668499e-02,  3.77722210e-02,  1.61297525e-02, -1.59372950e-02,\n",
       "       -9.38500206e-03, -2.63465311e-03, -4.94407614e-02,  2.02745480e-02,\n",
       "        1.96147742e-02, -2.91766549e-02, -2.79428232e-02, -2.19352160e-02,\n",
       "       -2.01975843e-02,  6.46836255e-03,  2.30141727e-02,  1.50514706e-02,\n",
       "       -4.18575847e-02, -2.74198160e-02,  8.76232541e-03,  4.63910214e-02,\n",
       "        3.78777355e-02, -7.48366046e-03, -1.02159930e-02, -3.89015878e-03,\n",
       "       -2.63164868e-02,  1.86549972e-03,  5.53046215e-03,  1.93062425e-02,\n",
       "        4.09681977e-02, -2.75968581e-03, -3.02695649e-02, -1.89191394e-02,\n",
       "        2.55838977e-02,  1.93864924e-02, -1.67658842e-04,  3.96235630e-03,\n",
       "       -6.49449814e-02, -2.02405197e-02, -1.61385701e-02, -5.33986213e-02,\n",
       "        2.73156441e-02,  1.16868742e-02,  2.53827624e-02, -4.04100295e-02,\n",
       "       -7.28427308e-03, -1.53869342e-03, -4.69310485e-02,  3.31854404e-03,\n",
       "        3.39528870e-02,  1.42708295e-03, -3.26533518e-02, -9.83829795e-03,\n",
       "       -2.27301438e-03, -2.42564997e-02,  2.07031441e-02,  3.48083780e-02,\n",
       "       -4.70033168e-02, -5.79041989e-03, -9.10124864e-03, -3.97516442e-03,\n",
       "       -3.96475222e-03,  8.31443351e-03,  3.52775848e-02, -4.06397268e-03,\n",
       "       -7.01780063e-03, -2.98570352e-02,  1.78251935e-02,  2.78951711e-03,\n",
       "        4.05250712e-02, -2.80275996e-02, -2.33753467e-03, -2.67431050e-02,\n",
       "       -1.60233098e-02, -1.12919976e-02, -1.74449270e-02,  2.29627022e-02,\n",
       "        3.24912067e-02, -2.92071112e-02, -2.78898286e-02, -1.40933473e-02,\n",
       "       -5.79462525e-03, -9.83838891e-03,  3.43167649e-03,  6.03206479e-03,\n",
       "        2.54813197e-02,  9.93613383e-03, -3.57924721e-03, -2.01244087e-02,\n",
       "       -1.52337816e-02, -1.82976796e-02,  5.47805863e-03,  5.31599439e-02,\n",
       "        2.52740551e-02, -2.27416002e-03, -5.98323523e-02, -9.60847999e-03,\n",
       "        1.24524693e-02,  4.61116569e-02,  5.80615399e-02,  5.18580832e-03,\n",
       "       -7.19040848e-03, -4.42726972e-03, -2.54316770e-02, -6.67101073e-03,\n",
       "       -4.65984078e-02,  3.39595201e-02,  2.14662071e-02,  3.16189526e-02,\n",
       "       -2.14035868e-02, -5.31398706e-03, -1.92018843e-02, -6.05724761e-02,\n",
       "        4.23970207e-02,  6.24744856e-02,  2.33005983e-02, -1.23081949e-02,\n",
       "       -1.37860322e-02, -3.45713787e-02, -9.56798934e-03, -7.94473493e-03,\n",
       "       -1.14556579e-02,  2.02780560e-02,  1.00938542e-02,  7.68230852e-03,\n",
       "        2.82657038e-02, -6.04708728e-03, -1.84695719e-02, -2.59860054e-02,\n",
       "       -2.66208609e-02, -5.00173337e-02,  4.93223825e-02,  1.54833260e-02,\n",
       "        3.07058358e-02,  2.25202057e-02, -3.02624361e-02, -2.26000027e-02,\n",
       "       -7.51346507e-03, -3.61418786e-02,  6.14194321e-02,  2.15749529e-02,\n",
       "        1.95611686e-02,  3.88585957e-02,  4.87206083e-02, -3.11552687e-02,\n",
       "       -2.06918750e-02, -5.46380398e-02,  2.75504454e-02,  1.71061364e-02,\n",
       "        1.80658174e-03,  2.43286312e-03,  4.60933605e-02,  2.76669188e-02,\n",
       "       -1.46339952e-02, -2.44313135e-02, -1.90843786e-02, -2.42319689e-02,\n",
       "        1.62151407e-02,  1.79250734e-02,  1.35455702e-02,  4.28430033e-02,\n",
       "       -5.21306718e-02, -2.86597731e-02, -6.63365648e-02,  2.17596962e-02,\n",
       "        4.51276753e-03,  1.05953880e-04,  3.10189735e-02,  5.33135338e-03,\n",
       "        5.85784604e-02, -1.41289013e-02, -1.69349964e-03, -4.17297185e-02,\n",
       "       -1.13829608e-03, -1.04711012e-02,  1.44884689e-02,  2.78927937e-03,\n",
       "        1.13043678e-02,  3.47630967e-02,  3.99450339e-02,  5.06631834e-03,\n",
       "       -4.30001966e-02, -1.52997422e-02, -2.80533449e-02, -7.88728260e-03,\n",
       "        2.18023436e-02,  4.04561844e-02,  1.04085613e-02,  4.11847423e-02,\n",
       "        1.27017715e-02, -8.50176349e-03, -2.04792559e-02, -2.20241253e-02,\n",
       "       -3.02059839e-02, -6.50379282e-03,  2.40887878e-02,  2.13286907e-03,\n",
       "        2.22837635e-03,  2.27767656e-02,  3.71179528e-02,  2.07415942e-02,\n",
       "        2.07888890e-02, -9.00690862e-02, -2.31854052e-02,  1.00485524e-02,\n",
       "        6.40657714e-02,  7.42892448e-02,  3.01967716e-02,  1.91220790e-03,\n",
       "       -2.02909597e-02, -6.38182644e-02, -2.46569459e-02, -1.85105702e-02,\n",
       "        7.64483351e-02,  1.10293394e-02,  1.23657970e-02,  2.75238975e-02,\n",
       "        1.05261024e-02,  3.89961380e-02, -6.35394586e-02, -1.82481930e-02,\n",
       "       -2.88540174e-02, -6.71689891e-03, -1.51639673e-02, -6.36009916e-03,\n",
       "        2.13480278e-02,  5.15212083e-02,  1.66520032e-02,  3.84080889e-02,\n",
       "       -5.77388577e-02, -1.09569440e-02, -6.29325050e-03, -1.17784345e-02,\n",
       "       -2.25856958e-02, -2.88227714e-03, -2.96987880e-03, -1.13636349e-02,\n",
       "        1.80894842e-02,  3.50513258e-02,  2.51835116e-02,  4.38502106e-02,\n",
       "        4.98357259e-02, -2.57685566e-02, -3.71521483e-02, -1.45520781e-02,\n",
       "       -3.97660149e-02, -8.32826275e-03,  6.38576595e-02,  4.31854911e-02,\n",
       "        1.40819918e-02,  1.74690712e-02, -6.93801722e-03, -2.97323422e-03,\n",
       "       -1.45461678e-02, -7.60929062e-03, -1.46386411e-03, -1.24528189e-02,\n",
       "       -2.75493410e-02, -2.97504187e-02,  3.38352864e-02,  5.21879808e-02,\n",
       "        7.82900257e-03,  1.59450044e-02,  2.98051562e-03,  1.43910545e-02,\n",
       "       -2.49483191e-02, -6.44401758e-02, -8.90588693e-02, -3.85689120e-03,\n",
       "        3.05551598e-02,  1.93998573e-02,  1.57823294e-02,  2.01451716e-03,\n",
       "        1.27720070e-02,  9.57579355e-03, -2.61710483e-02, -1.08680739e-02,\n",
       "       -1.09279498e-02, -3.81629677e-03, -2.62158825e-02, -4.58943976e-03,\n",
       "       -9.28306643e-03, -8.82048681e-02,  1.26476652e-02,  1.94541308e-02,\n",
       "        5.72212201e-02,  2.65534670e-02,  8.19205014e-03, -4.57360761e-02,\n",
       "       -4.83913356e-02, -3.80366928e-02, -1.99762485e-02, -1.66549730e-02,\n",
       "       -4.07086113e-02,  1.93192862e-02,  3.62055868e-02,  1.84135558e-02,\n",
       "        5.62262940e-02,  3.85731990e-02,  4.80025574e-02, -1.55107224e-02,\n",
       "       -4.16246424e-02, -5.61583490e-02, -6.42797440e-02,  2.96583624e-02,\n",
       "        2.89641176e-02,  3.75568509e-03,  1.11782252e-03,  1.25428157e-02,\n",
       "        3.22822214e-02,  4.27738610e-02,  1.70915195e-02,  9.97121411e-03,\n",
       "       -5.74027308e-02, -2.68256606e-02, -2.63984214e-02, -2.19895765e-02,\n",
       "       -1.72310557e-02, -2.27243031e-02, -3.38449721e-02,  1.02181641e-02,\n",
       "        1.18563564e-02,  9.24557707e-02,  4.75228932e-02, -1.70283376e-02,\n",
       "       -5.13707450e-02, -5.04297575e-02, -2.06222469e-02, -1.24772511e-02,\n",
       "       -1.40696300e-02, -5.78621596e-02, -2.07244827e-02,  1.04879521e-02,\n",
       "        4.21252096e-02,  2.35332874e-02,  3.06494195e-02,  4.94779331e-03,\n",
       "        5.08627570e-02, -3.99006391e-03, -8.75778539e-03, -4.47577849e-02,\n",
       "       -3.04888442e-02, -9.23220766e-02,  1.41670177e-03,  1.63715177e-02,\n",
       "        8.15173665e-04,  2.34844473e-02,  1.64813481e-02,  4.58892995e-03,\n",
       "        7.17150133e-03,  4.37813377e-02,  3.43685016e-02, -3.48421706e-02,\n",
       "       -1.85309911e-02, -7.21529038e-02, -1.18518349e-03, -1.40579477e-02,\n",
       "       -3.04986728e-03,  3.50402671e-03,  2.52065513e-02,  2.64074628e-02,\n",
       "        2.11054499e-02,  3.63649384e-02,  3.76662017e-02,  6.24701047e-02,\n",
       "       -4.04727270e-02, -2.13849477e-03, -2.55455141e-02, -6.58777385e-03,\n",
       "       -5.84617300e-02, -5.37609734e-02, -6.97218984e-02,  5.05874992e-02,\n",
       "        7.94874171e-02,  9.10796842e-03,  7.45893651e-02,  2.83295029e-02,\n",
       "       -4.63605122e-02, -2.47056479e-02, -1.37539160e-02, -1.71799388e-02,\n",
       "       -2.78817853e-02, -6.03312473e-03, -1.56166364e-02, -5.09323056e-03,\n",
       "       -3.64564312e-02,  5.23660501e-02,  2.27937479e-02,  3.94413202e-02,\n",
       "        4.50587614e-03,  4.58047148e-02,  5.64328963e-03, -7.02076541e-04,\n",
       "        4.04811887e-02, -8.35647264e-02, -1.72303056e-02, -2.20750913e-02,\n",
       "       -5.92874262e-02, -1.97539523e-02, -4.67590452e-03, -2.47110396e-03,\n",
       "        7.20238581e-02,  2.88477084e-02,  1.47525001e-02,  1.84503354e-02,\n",
       "        5.25140274e-02,  2.47392923e-02, -3.78962986e-04,  3.62262268e-02,\n",
       "       -5.61726810e-02, -3.23566598e-02, -8.67624712e-03, -2.27550325e-02,\n",
       "       -1.17384719e-02, -1.73575923e-02, -1.38547270e-02,  3.15112056e-02,\n",
       "        3.30812656e-02,  2.63493426e-02,  6.91894724e-03,  3.67143681e-02,\n",
       "        6.73290278e-02,  4.46569362e-02, -2.32274680e-02, -5.43215136e-02,\n",
       "       -5.22838621e-02, -6.17901336e-02, -5.51188214e-02, -5.77675809e-02,\n",
       "        6.73549743e-02,  2.06484761e-02,  1.75666419e-02,  1.17599902e-02,\n",
       "        2.82086543e-02,  4.29708904e-02,  4.14828900e-02, -3.72132426e-02,\n",
       "       -1.10537645e-02, -5.41336237e-02, -2.94727588e-02, -3.43772663e-02,\n",
       "       -1.39178424e-02, -6.50686579e-02,  5.82753676e-02,  3.32956877e-02,\n",
       "        4.23148064e-02,  3.03395040e-02,  2.35021714e-02,  1.05624958e-01,\n",
       "       -3.99765988e-02, -2.67925627e-02, -4.15642494e-02, -1.88553008e-03,\n",
       "       -1.66937535e-03, -2.55785776e-02, -2.38551953e-02, -6.32835921e-02,\n",
       "        5.50172572e-02,  5.23734304e-02,  2.23012721e-02,  2.85725370e-02,\n",
       "        1.05594110e-02,  6.72795176e-02,  5.93458082e-03, -3.80613987e-02,\n",
       "       -2.14598341e-02, -4.74237124e-02, -2.71489783e-02, -2.63286156e-02,\n",
       "       -1.02688734e-03,  9.23366510e-02,  8.71779810e-02,  9.43487652e-02,\n",
       "        6.82715872e-02, -4.67767649e-02, -2.10144960e-02, -6.44236555e-02,\n",
       "       -6.27267106e-02,  4.11839038e-02,  1.87080708e-02,  1.59174923e-02,\n",
       "        1.46309880e-02,  6.52267505e-03,  3.60542713e-03, -3.70937838e-02,\n",
       "       -5.12094935e-02, -3.97635364e-03, -1.86258164e-02,  1.84715470e-02,\n",
       "        4.07447283e-02, -1.85583547e-02, -3.55822340e-02, -3.66422698e-02,\n",
       "        8.84939472e-03,  3.71331751e-02, -1.66260995e-02,  6.13032338e-02,\n",
       "       -2.85785578e-02])"
      ]
     },
     "execution_count": 233,
     "metadata": {},
     "output_type": "execute_result"
    }
   ],
   "source": [
    "U[0]-1/N"
   ]
  },
  {
   "cell_type": "code",
   "execution_count": 234,
   "metadata": {},
   "outputs": [
    {
     "data": {
      "text/plain": [
       "21"
      ]
     },
     "execution_count": 234,
     "metadata": {},
     "output_type": "execute_result"
    }
   ],
   "source": [
    "sublist.__len__()\n"
   ]
  },
  {
   "cell_type": "code",
   "execution_count": 235,
   "metadata": {},
   "outputs": [
    {
     "data": {
      "image/png": "[encoded data removed]",
      "text/plain": [
       "<Figure size 640x480 with 1 Axes>"
      ]
     },
     "metadata": {},
     "output_type": "display_data"
    }
   ],
   "source": [
    "import matplotlib.pyplot as plt\n",
    "import numpy as np\n",
    "\n",
    "# Define the function to plot\n",
    "def f(x):\n",
    "    return np.sqrt(x)\n",
    "\n",
    "# Define the range of x values to plot\n",
    "x = np.linspace(0, 10, 1000)\n",
    "\n",
    "# Plot the function\n",
    "plt.plot(x, f(x))\n",
    "\n",
    "# Add axis labels and a title\n",
    "plt.xlabel('x')\n",
    "plt.ylabel('f(x)')\n",
    "plt.title('Square Root Function')\n",
    "\n",
    "# Show the plot\n",
    "plt.show()"
   ]
  },
  {
   "cell_type": "code",
   "execution_count": 236,
   "metadata": {},
   "outputs": [
    {
     "name": "stdout",
     "output_type": "stream",
     "text": [
      "0\n"
     ]
    }
   ],
   "source": [
    "print(log_returns.isna().sum().sum())"
   ]
  },
  {
   "cell_type": "code",
   "execution_count": 237,
   "metadata": {},
   "outputs": [
    {
     "data": {
      "text/plain": [
       "21"
      ]
     },
     "execution_count": 237,
     "metadata": {},
     "output_type": "execute_result"
    }
   ],
   "source": [
    "sublist.__len__()"
   ]
  },
  {
   "cell_type": "code",
   "execution_count": 238,
   "metadata": {},
   "outputs": [
    {
     "name": "stdout",
     "output_type": "stream",
     "text": [
      "False\n"
     ]
    }
   ],
   "source": [
    "import numpy as np\n",
    "\n",
    "# Check if any value in the DataFrame is infinity\n",
    "print(np.isinf(log_returns.values).any())"
   ]
  },
  {
   "cell_type": "code",
   "execution_count": 239,
   "metadata": {},
   "outputs": [],
   "source": [
    "import os"
   ]
  },
  {
   "cell_type": "code",
   "execution_count": 240,
   "metadata": {},
   "outputs": [
    {
     "name": "stdout",
     "output_type": "stream",
     "text": [
      "Current working directory: /home/qhalbert/Desktop\n"
     ]
    }
   ],
   "source": [
    "import os\n",
    "\n",
    "# Get the current working directory\n",
    "current_dir = os.getcwd()\n",
    "\n",
    "# Print the current working directory\n",
    "print(\"Current working directory:\", current_dir)"
   ]
  },
  {
   "cell_type": "code",
   "execution_count": 241,
   "metadata": {},
   "outputs": [],
   "source": [
    "os.chdir(\"/home/qhalbert/Desktop/\")"
   ]
  },
  {
   "cell_type": "code",
   "execution_count": null,
   "metadata": {},
   "outputs": [],
   "source": []
  }
 ],
 "metadata": {
  "kernelspec": {
   "display_name": "base",
   "language": "python",
   "name": "python3"
  },
  "language_info": {
   "codemirror_mode": {
    "name": "ipython",
    "version": 3
   },
   "file_extension": ".py",
   "mimetype": "text/x-python",
   "name": "python",
   "nbconvert_exporter": "python",
   "pygments_lexer": "ipython3",
   "version": "3.10.9"
  },
  "orig_nbformat": 4
 },
 "nbformat": 4,
 "nbformat_minor": 2
}
